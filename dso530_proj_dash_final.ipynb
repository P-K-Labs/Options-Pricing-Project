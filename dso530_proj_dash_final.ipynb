{
 "cells": [
  {
   "cell_type": "code",
   "execution_count": 1,
   "id": "750665d2",
   "metadata": {
    "scrolled": true
   },
   "outputs": [
    {
     "name": "stderr",
     "output_type": "stream",
     "text": [
      "<ipython-input-1-76539170fdaa>:4: UserWarning: \n",
      "The dash_core_components package is deprecated. Please replace\n",
      "`import dash_core_components as dcc` with `from dash import dcc`\n",
      "  import dash_core_components as dcc\n",
      "<ipython-input-1-76539170fdaa>:6: UserWarning: \n",
      "The dash_html_components package is deprecated. Please replace\n",
      "`import dash_html_components as html` with `from dash import html`\n",
      "  import dash_html_components as html\n",
      "<ipython-input-1-76539170fdaa>:7: UserWarning: \n",
      "The dash_table package is deprecated. Please replace\n",
      "`import dash_table` with `from dash import dash_table`\n",
      "\n",
      "Also, if you're using any of the table format helpers (e.g. Group), replace \n",
      "`from dash_table.Format import Group` with \n",
      "`from dash.dash_table.Format import Group`\n",
      "  import dash_table\n"
     ]
    }
   ],
   "source": [
    "# Import Library\n",
    "import pandas as pd\n",
    "import dash\n",
    "import dash_core_components as dcc\n",
    "import dash_daq as daq\n",
    "import dash_html_components as html\n",
    "import dash_table\n",
    "import numpy as np\n",
    "import pickle\n",
    "from sklearn.preprocessing import StandardScaler\n",
    "from sklearn.ensemble import RandomForestClassifier\n",
    "from dash.dependencies import Input, Output, State\n",
    "from io import BytesIO\n",
    "import requests\n",
    "from jupyter_dash import JupyterDash\n",
    "import dash_bootstrap_components as dbc\n",
    "import plotly.express as px\n",
    "import dash_table as dt\n",
    "\n",
    "import dependency as pk\n",
    "from dependency import NewVariablesAdder\n",
    "from sklearn.base import BaseEstimator, TransformerMixin\n",
    "\n",
    "from sklearn import set_config\n",
    "#import dash_colorscales"
   ]
  },
  {
   "cell_type": "code",
   "execution_count": 2,
   "id": "28ef1197",
   "metadata": {},
   "outputs": [],
   "source": [
    "external_stylesheets = ['https://codepen.io/chriddyp/pen/bWLwgP.css']\n",
    "app = JupyterDash(__name__,external_stylesheets=[dbc.themes.DARKLY])"
   ]
  },
  {
   "cell_type": "code",
   "execution_count": 3,
   "id": "acc54b3a",
   "metadata": {},
   "outputs": [],
   "source": [
    "filenamg_reg= 'model_regression1.sav'\n",
    "rfc_reg= pickle.load(open(filenamg_reg, 'rb'))\n",
    "\n",
    "filenamg_cls= 'model_classification1.sav'\n",
    "rfc_cls= pickle.load(open(filenamg_cls, 'rb'))"
   ]
  },
  {
   "cell_type": "code",
   "execution_count": 4,
   "id": "d23203d7",
   "metadata": {},
   "outputs": [],
   "source": [
    "app.layout = html.Div([\n",
    "    #html.H1('TURNOVER DASHBOARD'),\n",
    "    html.H1('Group 33 - Options Pricing', style={'fontSize':40,'width':'100%', 'height': '100%','margin':25, 'textAlign': 'center','color': '#89AEDB'}),\n",
    "    dcc.Tabs(id=\"tabs-example-graph\", value='tab-1-example-graph', children=[\n",
    "        \n",
    "        dcc.Tab(label='Regression',value='tab-1-example-graph',\n",
    "                style={ 'textAlign': 'center','color': '#89AEDB','background': '#272E3E','fontSize': '50'},\n",
    "                selected_style = {'backgroundColor': '#272E3E',\n",
    "    'color': '#89AEDB','borderTop': '3px solid #d6d6d6',}),\n",
    "        dcc.Tab(label='Classification', value='tab-2-example-graph',\n",
    "                style={'textAlign': 'center','color': '#89AEDB','background': '#272E3E','fontSize': '50'},\n",
    "                selected_style = {'backgroundColor': '#272E3E',\n",
    "    'color': '#89AEDB','borderTop': '3px solid #d6d6d6'}),\n",
    "       \n",
    "    ],\n",
    "        colors={\n",
    "        \"border\": \"#272E3E\",\n",
    "        \"primary\": \"272E3E\",\n",
    "        \"background\": \"#272E3E\"\n",
    "    },\n",
    "            ),\n",
    "    html.Div(id='tabs-content-example-graph'),\n",
    "    \n",
    "    \n",
    "])\n"
   ]
  },
  {
   "cell_type": "code",
   "execution_count": 5,
   "id": "fbacd23c",
   "metadata": {},
   "outputs": [
    {
     "name": "stdout",
     "output_type": "stream",
     "text": [
      "Dash app running on http://127.0.0.1:8088/\n"
     ]
    }
   ],
   "source": [
    "@app.callback(Output('tabs-content-example-graph', 'children'),\n",
    "              Input('tabs-example-graph', 'value'))\n",
    "def render_content(tab):\n",
    "    if tab == 'tab-1-example-graph':\n",
    "            return html.Div(children=[ #children is to make child HTML tags\n",
    "        html.H1('Regression',style = {\n",
    "                                                    'textAlign':'center','color': '#89AEDB',\n",
    "                                                    'fontSize':40,'background': '#272E3E',\n",
    "                                                }), #H1 is for website header\n",
    "        html.Div([\n",
    "            html.Div([\n",
    "                \n",
    "                html.Div(id='out-s', style={'font-weight': 'bold', 'color': '#89AEDB'}),\n",
    "                dcc.Input(\n",
    "                    id=\"input_{}\".format(\"s\"),\n",
    "                    type=\"number\",\n",
    "                    placeholder=\"S {}\".format(\"number\"),\n",
    "                    value = 431.61,style={'color': 'black','background': '#89AEDB', }),\n",
    "                \n",
    "                html.Div(id='out-tau', style={'font-weight': 'bold', 'color': '#89AEDB'}),\n",
    "                dcc.Input(\n",
    "                    id=\"input_{}\".format(\"tau\"),\n",
    "                    type=\"number\",\n",
    "                    placeholder=\"tau {}\".format(\"number\"),\n",
    "                    value = 0.3,style={'color': 'black','background': '#89AEDB', }),\n",
    "                \n",
    "                html.Div(id='out-r', style={'font-weight': 'bold', 'color': '#89AEDB'}),\n",
    "                dcc.Input(\n",
    "                    id=\"input_{}\".format(\"r\"),\n",
    "                    type=\"number\",\n",
    "                    placeholder=\"R {}\".format(\"number\"),\n",
    "                    value = 0.03,style={'color': 'black','background': '#89AEDB', }),\n",
    "            \n",
    "                html.Div(id='out-k', style={'font-weight': 'bold', 'color': '#89AEDB'}),\n",
    "                dcc.Input(\n",
    "                    id=\"input_{}\".format(\"k\"),\n",
    "                    type=\"number\",\n",
    "                    placeholder=\"K {}\".format(\"number\"),\n",
    "                    value = 460,style={'color': 'black','background': '#89AEDB', }),\n",
    "\n",
    "                html.H3(id='pred_result_regression', style={'font-weight': 'bold', 'color': '#89AEDB'})\n",
    "            ], className = \"six columns\", style={'width': '100%', 'float': 'right', 'display': 'inline-block','height' : '80vh'}),\n",
    "        ], className = \"row\",style ={'display': 'inline-block','width': '100%','height':'100%'})\n",
    "    ################# \n",
    "    ], style={'padding': '15px 10px','height':'100vh'})\n",
    "\n",
    "    elif tab == 'tab-2-example-graph':\n",
    "            return html.Div(children=[ #children is to make child HTML tags\n",
    "        html.H1('Classification',style = {\n",
    "                                                    'textAlign':'center','color': '#89AEDB',\n",
    "                                                    'fontSize':40,'background': '#272E3E',\n",
    "                                                }), #H1 is for website header\n",
    "        html.Div([\n",
    "            html.Div([\n",
    "                \n",
    "                html.Div(id='out-s', style={'font-weight': 'bold', 'color': '#89AEDB'}),\n",
    "                dcc.Input(\n",
    "                    id=\"input_{}\".format(\"s\"),\n",
    "                    type=\"number\",\n",
    "                    placeholder=\"S {}\".format(\"number\"),\n",
    "                    value = 431.61,style={'color': 'black','background': '#89AEDB', }),\n",
    "                \n",
    "                html.Div(id='out-tau', style={'font-weight': 'bold', 'color': '#89AEDB'}),\n",
    "                dcc.Input(\n",
    "                    id=\"input_{}\".format(\"tau\"),\n",
    "                    type=\"number\",\n",
    "                    placeholder=\"tau {}\".format(\"number\"),\n",
    "                    value = 0.3,style={'color': 'black','background': '#89AEDB', }),\n",
    "                \n",
    "                html.Div(id='out-r', style={'font-weight': 'bold', 'color': '#89AEDB'}),\n",
    "                dcc.Input(\n",
    "                    id=\"input_{}\".format(\"r\"),\n",
    "                    type=\"number\",\n",
    "                    placeholder=\"R {}\".format(\"number\"),\n",
    "                    value = 0.03,style={'color': 'black','background': '#89AEDB', }),\n",
    "            \n",
    "                html.Div(id='out-k', style={'font-weight': 'bold', 'color': '#89AEDB'}),\n",
    "                dcc.Input(\n",
    "                    id=\"input_{}\".format(\"k\"),\n",
    "                    type=\"number\",\n",
    "                    placeholder=\"K {}\".format(\"number\"),\n",
    "                    value = 460,style={'color': 'black','background': '#89AEDB', }),\n",
    "\n",
    "                html.H3(id='pred_result_class', style={'font-weight': 'bold', 'color': '#89AEDB'})\n",
    "            ], className = \"six columns\", style={'width': '100%', 'float': 'right', 'display': 'inline-block','height' : '80vh'}),\n",
    "        ], className = \"row\",style ={'display': 'inline-block','width': '100%','height':'100%'})\n",
    "    ################# \n",
    "    ], style={'padding': '15px 10px','height':'100vh'})\n",
    "\n",
    "        \n",
    "\n",
    "@app.callback(\n",
    "    Output('out-s', 'children'),\n",
    "    [Input(\"input_{}\".format(\"s\"), \"value\")])\n",
    "def update_output(value):\n",
    "    return 'S: {} '.format(value)\n",
    "\n",
    "@app.callback(\n",
    "    Output('out-tau', 'children'),\n",
    "    [Input(\"input_{}\".format(\"tau\"), \"value\")])\n",
    "def update_output(value):\n",
    "    return 'Tau: {} '.format(value)\n",
    "\n",
    "@app.callback(\n",
    "    Output('out-r', 'children'),\n",
    "    [Input(\"input_{}\".format(\"r\"), \"value\")])\n",
    "def update_output(value):\n",
    "    return 'R: {} '.format(value)\n",
    "\n",
    "@app.callback(\n",
    "    Output('out-k', 'children'),\n",
    "    [Input(\"input_{}\".format(\"k\"), \"value\")])\n",
    "def update_output(value):\n",
    "    return 'K: {} '.format(value)\n",
    "    \n",
    "##################\n",
    "\n",
    "@app.callback(\n",
    "    Output('pred_result_regression', 'children'),\n",
    "    [Input(\"input_{}\".format(\"s\"), 'value'),\n",
    "     Input(\"input_{}\".format(\"tau\"), 'value'),\n",
    "     Input(\"input_{}\".format(\"r\"), 'value'),\n",
    "    Input(\"input_{}\".format(\"k\"), 'value')])\n",
    "  \n",
    "\n",
    "def update_prediction_reg(x1, x2, x3, x4):\n",
    "    #x5 = x1/x4\n",
    "    \n",
    "    # Create a NumPy array in the form of the original features\n",
    "    input_X = pd.DataFrame({'S':[x1],\n",
    "                    'K':[x4],\n",
    "                    'tau':[x2],\n",
    "                    'r':[x3]\n",
    "                   })\n",
    "\n",
    "    predictions= rfc_reg.predict(input_X)[0]\n",
    "    predictions = round(predictions,2)\n",
    "    return 'Value: {}'.format(predictions)\n",
    "    \n",
    "\n",
    "\n",
    "@app.callback(\n",
    "    Output('pred_result_class', 'children'),\n",
    "    [Input(\"input_{}\".format(\"s\"), 'value'),\n",
    "     Input(\"input_{}\".format(\"tau\"), 'value'),\n",
    "     Input(\"input_{}\".format(\"r\"), 'value'),\n",
    "    Input(\"input_{}\".format(\"k\"), 'value')])\n",
    "  \n",
    "\n",
    "def update_prediction_cls(x1, x2, x3, x4):\n",
    "    x5 = x1/x4\n",
    "    \n",
    "    # Create a NumPy array in the form of the original features\n",
    "    input_X = pd.DataFrame({'S':[x1],\n",
    "                    'K':[x4],\n",
    "                    'tau':[x2],\n",
    "                    'r':[x3]\n",
    "                   })\n",
    "\n",
    "    predictions= rfc_cls.predict_proba(input_X)[0,1]\n",
    "    predictions = round(predictions*100,0)\n",
    "    return 'BS Probability: {}%'.format(predictions)\n",
    "\n",
    "    \n",
    "\n",
    "\n",
    "if __name__ == '__main__':\n",
    "    app.run_server(mode='external', height= 500, width = '100%',port=8088,dev_tools_ui=False, debug = True)"
   ]
  },
  {
   "cell_type": "code",
   "execution_count": 6,
   "id": "8c153d90",
   "metadata": {},
   "outputs": [
    {
     "data": {
      "text/html": [
       "<style>div.sk-top-container {color: black;background-color: white;}div.sk-toggleable {background-color: white;}label.sk-toggleable__label {cursor: pointer;display: block;width: 100%;margin-bottom: 0;padding: 0.2em 0.3em;box-sizing: border-box;text-align: center;}div.sk-toggleable__content {max-height: 0;max-width: 0;overflow: hidden;text-align: left;background-color: #f0f8ff;}div.sk-toggleable__content pre {margin: 0.2em;color: black;border-radius: 0.25em;background-color: #f0f8ff;}input.sk-toggleable__control:checked~div.sk-toggleable__content {max-height: 200px;max-width: 100%;overflow: auto;}div.sk-estimator input.sk-toggleable__control:checked~label.sk-toggleable__label {background-color: #d4ebff;}div.sk-label input.sk-toggleable__control:checked~label.sk-toggleable__label {background-color: #d4ebff;}input.sk-hidden--visually {border: 0;clip: rect(1px 1px 1px 1px);clip: rect(1px, 1px, 1px, 1px);height: 1px;margin: -1px;overflow: hidden;padding: 0;position: absolute;width: 1px;}div.sk-estimator {font-family: monospace;background-color: #f0f8ff;margin: 0.25em 0.25em;border: 1px dotted black;border-radius: 0.25em;box-sizing: border-box;}div.sk-estimator:hover {background-color: #d4ebff;}div.sk-parallel-item::after {content: \"\";width: 100%;border-bottom: 1px solid gray;flex-grow: 1;}div.sk-label:hover label.sk-toggleable__label {background-color: #d4ebff;}div.sk-serial::before {content: \"\";position: absolute;border-left: 1px solid gray;box-sizing: border-box;top: 2em;bottom: 0;left: 50%;}div.sk-serial {display: flex;flex-direction: column;align-items: center;background-color: white;}div.sk-item {z-index: 1;}div.sk-parallel {display: flex;align-items: stretch;justify-content: center;background-color: white;}div.sk-parallel-item {display: flex;flex-direction: column;position: relative;background-color: white;}div.sk-parallel-item:first-child::after {align-self: flex-end;width: 50%;}div.sk-parallel-item:last-child::after {align-self: flex-start;width: 50%;}div.sk-parallel-item:only-child::after {width: 0;}div.sk-dashed-wrapped {border: 1px dashed gray;margin: 0.2em;box-sizing: border-box;padding-bottom: 0.1em;background-color: white;position: relative;}div.sk-label label {font-family: monospace;font-weight: bold;background-color: white;display: inline-block;line-height: 1.2em;}div.sk-label-container {position: relative;z-index: 2;text-align: center;}div.sk-container {display: inline-block;position: relative;}</style><div class=\"sk-top-container\"><div class=\"sk-container\"><div class=\"sk-item sk-dashed-wrapped\"><div class=\"sk-label-container\"><div class=\"sk-label sk-toggleable\"><input class=\"sk-toggleable__control sk-hidden--visually\" id=\"11820e42-420c-404b-b62f-8e8734c4eebf\" type=\"checkbox\" ><label class=\"sk-toggleable__label\" for=\"11820e42-420c-404b-b62f-8e8734c4eebf\">Pipeline</label><div class=\"sk-toggleable__content\"><pre>Pipeline(steps=[('transformer_impute',\n",
       "                 ColumnTransformer(transformers=[('imputer', SimpleImputer(),\n",
       "                                                  ['S', 'K', 'tau'])])),\n",
       "                ('New Variables',\n",
       "                 NewVariablesAdder(columns=['S', 'K', 'tau', 'r'])),\n",
       "                ('transformer_drop_scale',\n",
       "                 ColumnTransformer(transformers=[('drop_columns', 'drop',\n",
       "                                                  ['K']),\n",
       "                                                 ('scale', StandardScaler(),\n",
       "                                                  ['S', 'tau', 'r'])])),\n",
       "                ('knnclf', KNeighborsClassifier())])</pre></div></div></div><div class=\"sk-serial\"><div class=\"sk-item sk-dashed-wrapped\"><div class=\"sk-label-container\"><div class=\"sk-label sk-toggleable\"><input class=\"sk-toggleable__control sk-hidden--visually\" id=\"b8addf86-9026-4481-8756-490ceea7f393\" type=\"checkbox\" ><label class=\"sk-toggleable__label\" for=\"b8addf86-9026-4481-8756-490ceea7f393\">transformer_impute: ColumnTransformer</label><div class=\"sk-toggleable__content\"><pre>ColumnTransformer(transformers=[('imputer', SimpleImputer(),\n",
       "                                 ['S', 'K', 'tau'])])</pre></div></div></div><div class=\"sk-parallel\"><div class=\"sk-parallel-item\"><div class=\"sk-item\"><div class=\"sk-label-container\"><div class=\"sk-label sk-toggleable\"><input class=\"sk-toggleable__control sk-hidden--visually\" id=\"f75f629b-324e-4d4b-91c7-89549c4da6a5\" type=\"checkbox\" ><label class=\"sk-toggleable__label\" for=\"f75f629b-324e-4d4b-91c7-89549c4da6a5\">imputer</label><div class=\"sk-toggleable__content\"><pre>['S', 'K', 'tau']</pre></div></div></div><div class=\"sk-serial\"><div class=\"sk-item\"><div class=\"sk-estimator sk-toggleable\"><input class=\"sk-toggleable__control sk-hidden--visually\" id=\"31e8c7e7-7902-447f-a095-3a5e04219476\" type=\"checkbox\" ><label class=\"sk-toggleable__label\" for=\"31e8c7e7-7902-447f-a095-3a5e04219476\">SimpleImputer</label><div class=\"sk-toggleable__content\"><pre>SimpleImputer()</pre></div></div></div></div></div></div></div></div><div class=\"sk-item\"><div class=\"sk-estimator sk-toggleable\"><input class=\"sk-toggleable__control sk-hidden--visually\" id=\"b5cd8ce3-788b-477e-bc2f-5403c20eac46\" type=\"checkbox\" ><label class=\"sk-toggleable__label\" for=\"b5cd8ce3-788b-477e-bc2f-5403c20eac46\">NewVariablesAdder</label><div class=\"sk-toggleable__content\"><pre>NewVariablesAdder(columns=['S', 'K', 'tau', 'r'])</pre></div></div></div><div class=\"sk-item sk-dashed-wrapped\"><div class=\"sk-label-container\"><div class=\"sk-label sk-toggleable\"><input class=\"sk-toggleable__control sk-hidden--visually\" id=\"47021417-de9d-4198-9083-ac349f2a618f\" type=\"checkbox\" ><label class=\"sk-toggleable__label\" for=\"47021417-de9d-4198-9083-ac349f2a618f\">transformer_drop_scale: ColumnTransformer</label><div class=\"sk-toggleable__content\"><pre>ColumnTransformer(transformers=[('drop_columns', 'drop', ['K']),\n",
       "                                ('scale', StandardScaler(), ['S', 'tau', 'r'])])</pre></div></div></div><div class=\"sk-parallel\"><div class=\"sk-parallel-item\"><div class=\"sk-item\"><div class=\"sk-label-container\"><div class=\"sk-label sk-toggleable\"><input class=\"sk-toggleable__control sk-hidden--visually\" id=\"6f83d630-45d3-4b9c-8ec1-8c1d7ea690d5\" type=\"checkbox\" ><label class=\"sk-toggleable__label\" for=\"6f83d630-45d3-4b9c-8ec1-8c1d7ea690d5\">drop_columns</label><div class=\"sk-toggleable__content\"><pre>['K']</pre></div></div></div><div class=\"sk-serial\"><div class=\"sk-item\"><div class=\"sk-estimator sk-toggleable\"><input class=\"sk-toggleable__control sk-hidden--visually\" id=\"ac910753-52ee-45dc-a477-7271550d245b\" type=\"checkbox\" ><label class=\"sk-toggleable__label\" for=\"ac910753-52ee-45dc-a477-7271550d245b\">drop</label><div class=\"sk-toggleable__content\"><pre>drop</pre></div></div></div></div></div></div><div class=\"sk-parallel-item\"><div class=\"sk-item\"><div class=\"sk-label-container\"><div class=\"sk-label sk-toggleable\"><input class=\"sk-toggleable__control sk-hidden--visually\" id=\"5cb86216-428e-4554-a286-f61e5a2c3db7\" type=\"checkbox\" ><label class=\"sk-toggleable__label\" for=\"5cb86216-428e-4554-a286-f61e5a2c3db7\">scale</label><div class=\"sk-toggleable__content\"><pre>['S', 'tau', 'r']</pre></div></div></div><div class=\"sk-serial\"><div class=\"sk-item\"><div class=\"sk-estimator sk-toggleable\"><input class=\"sk-toggleable__control sk-hidden--visually\" id=\"3b890ed2-72ce-47a0-8812-f3b9e3c7ab72\" type=\"checkbox\" ><label class=\"sk-toggleable__label\" for=\"3b890ed2-72ce-47a0-8812-f3b9e3c7ab72\">StandardScaler</label><div class=\"sk-toggleable__content\"><pre>StandardScaler()</pre></div></div></div></div></div></div></div></div><div class=\"sk-item\"><div class=\"sk-estimator sk-toggleable\"><input class=\"sk-toggleable__control sk-hidden--visually\" id=\"a9c32569-6943-4832-8da5-dbc57e6d9c75\" type=\"checkbox\" ><label class=\"sk-toggleable__label\" for=\"a9c32569-6943-4832-8da5-dbc57e6d9c75\">KNeighborsClassifier</label><div class=\"sk-toggleable__content\"><pre>KNeighborsClassifier()</pre></div></div></div></div></div></div></div>"
      ],
      "text/plain": [
       "Pipeline(steps=[('transformer_impute',\n",
       "                 ColumnTransformer(transformers=[('imputer', SimpleImputer(),\n",
       "                                                  ['S', 'K', 'tau'])])),\n",
       "                ('New Variables',\n",
       "                 NewVariablesAdder(columns=['S', 'K', 'tau', 'r'])),\n",
       "                ('transformer_drop_scale',\n",
       "                 ColumnTransformer(transformers=[('drop_columns', 'drop',\n",
       "                                                  ['K']),\n",
       "                                                 ('scale', StandardScaler(),\n",
       "                                                  ['S', 'tau', 'r'])])),\n",
       "                ('knnclf', KNeighborsClassifier())])"
      ]
     },
     "execution_count": 6,
     "metadata": {},
     "output_type": "execute_result"
    }
   ],
   "source": [
    "set_config(display=\"diagram\")\n",
    "rfc_cls  # click on the diagram below to see the details of each step"
   ]
  },
  {
   "cell_type": "code",
   "execution_count": 7,
   "id": "9266bc47",
   "metadata": {},
   "outputs": [
    {
     "data": {
      "text/html": [
       "<style>div.sk-top-container {color: black;background-color: white;}div.sk-toggleable {background-color: white;}label.sk-toggleable__label {cursor: pointer;display: block;width: 100%;margin-bottom: 0;padding: 0.2em 0.3em;box-sizing: border-box;text-align: center;}div.sk-toggleable__content {max-height: 0;max-width: 0;overflow: hidden;text-align: left;background-color: #f0f8ff;}div.sk-toggleable__content pre {margin: 0.2em;color: black;border-radius: 0.25em;background-color: #f0f8ff;}input.sk-toggleable__control:checked~div.sk-toggleable__content {max-height: 200px;max-width: 100%;overflow: auto;}div.sk-estimator input.sk-toggleable__control:checked~label.sk-toggleable__label {background-color: #d4ebff;}div.sk-label input.sk-toggleable__control:checked~label.sk-toggleable__label {background-color: #d4ebff;}input.sk-hidden--visually {border: 0;clip: rect(1px 1px 1px 1px);clip: rect(1px, 1px, 1px, 1px);height: 1px;margin: -1px;overflow: hidden;padding: 0;position: absolute;width: 1px;}div.sk-estimator {font-family: monospace;background-color: #f0f8ff;margin: 0.25em 0.25em;border: 1px dotted black;border-radius: 0.25em;box-sizing: border-box;}div.sk-estimator:hover {background-color: #d4ebff;}div.sk-parallel-item::after {content: \"\";width: 100%;border-bottom: 1px solid gray;flex-grow: 1;}div.sk-label:hover label.sk-toggleable__label {background-color: #d4ebff;}div.sk-serial::before {content: \"\";position: absolute;border-left: 1px solid gray;box-sizing: border-box;top: 2em;bottom: 0;left: 50%;}div.sk-serial {display: flex;flex-direction: column;align-items: center;background-color: white;}div.sk-item {z-index: 1;}div.sk-parallel {display: flex;align-items: stretch;justify-content: center;background-color: white;}div.sk-parallel-item {display: flex;flex-direction: column;position: relative;background-color: white;}div.sk-parallel-item:first-child::after {align-self: flex-end;width: 50%;}div.sk-parallel-item:last-child::after {align-self: flex-start;width: 50%;}div.sk-parallel-item:only-child::after {width: 0;}div.sk-dashed-wrapped {border: 1px dashed gray;margin: 0.2em;box-sizing: border-box;padding-bottom: 0.1em;background-color: white;position: relative;}div.sk-label label {font-family: monospace;font-weight: bold;background-color: white;display: inline-block;line-height: 1.2em;}div.sk-label-container {position: relative;z-index: 2;text-align: center;}div.sk-container {display: inline-block;position: relative;}</style><div class=\"sk-top-container\"><div class=\"sk-container\"><div class=\"sk-item sk-dashed-wrapped\"><div class=\"sk-label-container\"><div class=\"sk-label sk-toggleable\"><input class=\"sk-toggleable__control sk-hidden--visually\" id=\"3ad0f06f-dcde-46f5-b980-bb57f72309a6\" type=\"checkbox\" ><label class=\"sk-toggleable__label\" for=\"3ad0f06f-dcde-46f5-b980-bb57f72309a6\">Pipeline</label><div class=\"sk-toggleable__content\"><pre>Pipeline(steps=[('transformer_impute',\n",
       "                 ColumnTransformer(transformers=[('imputer', SimpleImputer(),\n",
       "                                                  ['S', 'K', 'tau'])])),\n",
       "                ('New Variables',\n",
       "                 NewVariablesAdder(columns=['S', 'K', 'tau', 'r'])),\n",
       "                ('transformer_drop_scale',\n",
       "                 ColumnTransformer(transformers=[('drop_columns', 'drop',\n",
       "                                                  ['K']),\n",
       "                                                 ('scale', StandardScaler(),\n",
       "                                                  ['S', 'tau', 'r'])])),\n",
       "                ('linreg', RandomForestRegressor(random_state=2022))])</pre></div></div></div><div class=\"sk-serial\"><div class=\"sk-item sk-dashed-wrapped\"><div class=\"sk-label-container\"><div class=\"sk-label sk-toggleable\"><input class=\"sk-toggleable__control sk-hidden--visually\" id=\"e4dc5df9-fd9f-4e9d-872c-62a1e996886e\" type=\"checkbox\" ><label class=\"sk-toggleable__label\" for=\"e4dc5df9-fd9f-4e9d-872c-62a1e996886e\">transformer_impute: ColumnTransformer</label><div class=\"sk-toggleable__content\"><pre>ColumnTransformer(transformers=[('imputer', SimpleImputer(),\n",
       "                                 ['S', 'K', 'tau'])])</pre></div></div></div><div class=\"sk-parallel\"><div class=\"sk-parallel-item\"><div class=\"sk-item\"><div class=\"sk-label-container\"><div class=\"sk-label sk-toggleable\"><input class=\"sk-toggleable__control sk-hidden--visually\" id=\"cc03e31f-17ff-4b1e-89ad-639e62a78e8f\" type=\"checkbox\" ><label class=\"sk-toggleable__label\" for=\"cc03e31f-17ff-4b1e-89ad-639e62a78e8f\">imputer</label><div class=\"sk-toggleable__content\"><pre>['S', 'K', 'tau']</pre></div></div></div><div class=\"sk-serial\"><div class=\"sk-item\"><div class=\"sk-estimator sk-toggleable\"><input class=\"sk-toggleable__control sk-hidden--visually\" id=\"d2f85ffc-d9ef-49ab-a6fd-0a405097a5b6\" type=\"checkbox\" ><label class=\"sk-toggleable__label\" for=\"d2f85ffc-d9ef-49ab-a6fd-0a405097a5b6\">SimpleImputer</label><div class=\"sk-toggleable__content\"><pre>SimpleImputer()</pre></div></div></div></div></div></div></div></div><div class=\"sk-item\"><div class=\"sk-estimator sk-toggleable\"><input class=\"sk-toggleable__control sk-hidden--visually\" id=\"eef5cace-87ed-4633-884c-fae477140792\" type=\"checkbox\" ><label class=\"sk-toggleable__label\" for=\"eef5cace-87ed-4633-884c-fae477140792\">NewVariablesAdder</label><div class=\"sk-toggleable__content\"><pre>NewVariablesAdder(columns=['S', 'K', 'tau', 'r'])</pre></div></div></div><div class=\"sk-item sk-dashed-wrapped\"><div class=\"sk-label-container\"><div class=\"sk-label sk-toggleable\"><input class=\"sk-toggleable__control sk-hidden--visually\" id=\"854a34ed-35fc-4d38-822b-e87650c4d691\" type=\"checkbox\" ><label class=\"sk-toggleable__label\" for=\"854a34ed-35fc-4d38-822b-e87650c4d691\">transformer_drop_scale: ColumnTransformer</label><div class=\"sk-toggleable__content\"><pre>ColumnTransformer(transformers=[('drop_columns', 'drop', ['K']),\n",
       "                                ('scale', StandardScaler(), ['S', 'tau', 'r'])])</pre></div></div></div><div class=\"sk-parallel\"><div class=\"sk-parallel-item\"><div class=\"sk-item\"><div class=\"sk-label-container\"><div class=\"sk-label sk-toggleable\"><input class=\"sk-toggleable__control sk-hidden--visually\" id=\"38564706-b503-465d-834f-daaa64346736\" type=\"checkbox\" ><label class=\"sk-toggleable__label\" for=\"38564706-b503-465d-834f-daaa64346736\">drop_columns</label><div class=\"sk-toggleable__content\"><pre>['K']</pre></div></div></div><div class=\"sk-serial\"><div class=\"sk-item\"><div class=\"sk-estimator sk-toggleable\"><input class=\"sk-toggleable__control sk-hidden--visually\" id=\"e7db0edd-1c99-44ec-b4b1-86f3f1e9a05a\" type=\"checkbox\" ><label class=\"sk-toggleable__label\" for=\"e7db0edd-1c99-44ec-b4b1-86f3f1e9a05a\">drop</label><div class=\"sk-toggleable__content\"><pre>drop</pre></div></div></div></div></div></div><div class=\"sk-parallel-item\"><div class=\"sk-item\"><div class=\"sk-label-container\"><div class=\"sk-label sk-toggleable\"><input class=\"sk-toggleable__control sk-hidden--visually\" id=\"aa396ec5-c90c-40b8-901a-3beaf5065e7c\" type=\"checkbox\" ><label class=\"sk-toggleable__label\" for=\"aa396ec5-c90c-40b8-901a-3beaf5065e7c\">scale</label><div class=\"sk-toggleable__content\"><pre>['S', 'tau', 'r']</pre></div></div></div><div class=\"sk-serial\"><div class=\"sk-item\"><div class=\"sk-estimator sk-toggleable\"><input class=\"sk-toggleable__control sk-hidden--visually\" id=\"3de5cd83-adf9-4e5d-af8a-cce6be85bdba\" type=\"checkbox\" ><label class=\"sk-toggleable__label\" for=\"3de5cd83-adf9-4e5d-af8a-cce6be85bdba\">StandardScaler</label><div class=\"sk-toggleable__content\"><pre>StandardScaler()</pre></div></div></div></div></div></div></div></div><div class=\"sk-item\"><div class=\"sk-estimator sk-toggleable\"><input class=\"sk-toggleable__control sk-hidden--visually\" id=\"5bd0fe9b-d02c-4cb0-b0d1-652db51ae4c8\" type=\"checkbox\" ><label class=\"sk-toggleable__label\" for=\"5bd0fe9b-d02c-4cb0-b0d1-652db51ae4c8\">RandomForestRegressor</label><div class=\"sk-toggleable__content\"><pre>RandomForestRegressor(random_state=2022)</pre></div></div></div></div></div></div></div>"
      ],
      "text/plain": [
       "Pipeline(steps=[('transformer_impute',\n",
       "                 ColumnTransformer(transformers=[('imputer', SimpleImputer(),\n",
       "                                                  ['S', 'K', 'tau'])])),\n",
       "                ('New Variables',\n",
       "                 NewVariablesAdder(columns=['S', 'K', 'tau', 'r'])),\n",
       "                ('transformer_drop_scale',\n",
       "                 ColumnTransformer(transformers=[('drop_columns', 'drop',\n",
       "                                                  ['K']),\n",
       "                                                 ('scale', StandardScaler(),\n",
       "                                                  ['S', 'tau', 'r'])])),\n",
       "                ('linreg', RandomForestRegressor(random_state=2022))])"
      ]
     },
     "execution_count": 7,
     "metadata": {},
     "output_type": "execute_result"
    }
   ],
   "source": [
    "set_config(display=\"diagram\")\n",
    "rfc_reg  # click on the diagram below to see the details of each step"
   ]
  },
  {
   "cell_type": "markdown",
   "id": "2c6b64f5",
   "metadata": {},
   "source": [
    "x1=1\n",
    "x2=2\n",
    "x3=3\n",
    "x4=4\n",
    "x5=x1/x4\n",
    "input_X = pd.DataFrame({'S':[x1],\n",
    "                    'K':[x4],\n",
    "                    'tau':[x2],\n",
    "                    'r':[x3]\n",
    "                   })\n",
    "\n",
    "predictions= rfc_reg.predict(input_X)[0]\n",
    "predictions = round(predictions,2)"
   ]
  },
  {
   "cell_type": "markdown",
   "id": "f0364273",
   "metadata": {},
   "source": [
    "predictions"
   ]
  },
  {
   "cell_type": "markdown",
   "id": "38db9885",
   "metadata": {},
   "source": [
    "predictions"
   ]
  },
  {
   "cell_type": "markdown",
   "id": "43f990d5",
   "metadata": {},
   "source": [
    "predictions"
   ]
  },
  {
   "cell_type": "markdown",
   "id": "63a65728",
   "metadata": {},
   "source": [
    "predictions= rfc_cls.predict_proba(input_X)"
   ]
  },
  {
   "cell_type": "markdown",
   "id": "ad56b51e",
   "metadata": {},
   "source": [
    "predictions"
   ]
  },
  {
   "cell_type": "markdown",
   "id": "5ed53541",
   "metadata": {},
   "source": [
    "id =\"input_{}\".format(\"number\")"
   ]
  },
  {
   "cell_type": "markdown",
   "id": "5a2c74a9",
   "metadata": {},
   "source": [
    "id"
   ]
  },
  {
   "cell_type": "markdown",
   "id": "a92b48b1",
   "metadata": {},
   "source": [
    "\"input_{}\".format(\"s\")"
   ]
  },
  {
   "cell_type": "markdown",
   "id": "e75ff95d",
   "metadata": {},
   "source": []
  }
 ],
 "metadata": {
  "kernelspec": {
   "display_name": "Python 3",
   "language": "python",
   "name": "python3"
  },
  "language_info": {
   "codemirror_mode": {
    "name": "ipython",
    "version": 3
   },
   "file_extension": ".py",
   "mimetype": "text/x-python",
   "name": "python",
   "nbconvert_exporter": "python",
   "pygments_lexer": "ipython3",
   "version": "3.8.8"
  }
 },
 "nbformat": 4,
 "nbformat_minor": 5
}
